{
 "cells": [
  {
   "cell_type": "code",
   "execution_count": 15,
   "metadata": {},
   "outputs": [],
   "source": [
    "class ContaSalario:\n",
    "    def __init__(self, codigo):\n",
    "        self._codigo = codigo\n",
    "        self._saldo = 0\n",
    "    \n",
    "    # compara dois objetos pelo seus valores\n",
    "    def __eq__(self, outro):\n",
    "        if type(outro) != ContaSalario:\n",
    "            return False\n",
    "        return self._codigo == outro._codigo and self._saldo == outro._saldo\n",
    "    \n",
    "    # usado para definir a funcionalidade do operador menor \"<\"\n",
    "    def __lt__(self, outro):\n",
    "        return self._saldo < outro._saldo\n",
    "    \n",
    "    def deposita(self, valor):\n",
    "        self._saldo += valor\n",
    "\n",
    "    def __str__(self):\n",
    "        return f\"Codigo {self._codigo} Saldo {self._saldo}\""
   ]
  },
  {
   "cell_type": "code",
   "execution_count": 16,
   "metadata": {},
   "outputs": [],
   "source": [
    "conta_do_guilherme = ContaSalario(17)\n",
    "conta_do_guilherme.deposita(500)\n",
    "\n",
    "conta_da_daniela = ContaSalario(3)\n",
    "conta_da_daniela.deposita(1000)\n",
    "\n",
    "conta_do_paulo = ContaSalario(133)\n",
    "conta_do_paulo.deposita(510)\n",
    "\n",
    "contas = [conta_do_guilherme, conta_da_daniela, conta_do_paulo]"
   ]
  },
  {
   "cell_type": "code",
   "execution_count": 20,
   "metadata": {},
   "outputs": [
    {
     "data": {
      "text/plain": [
       "True"
      ]
     },
     "execution_count": 20,
     "metadata": {},
     "output_type": "execute_result"
    }
   ],
   "source": [
    "conta_do_guilherme < conta_da_daniela"
   ]
  },
  {
   "cell_type": "code",
   "execution_count": 17,
   "metadata": {},
   "outputs": [
    {
     "name": "stdout",
     "output_type": "stream",
     "text": [
      "Codigo 17 Saldo 500\n",
      "Codigo 3 Saldo 1000\n",
      "Codigo 133 Saldo 510\n"
     ]
    }
   ],
   "source": [
    "for conta in contas:\n",
    "    print(conta)"
   ]
  },
  {
   "cell_type": "markdown",
   "metadata": {},
   "source": [
    "- Um criterio diferente sem a necessidade de importar algo, somente utilizanod o `__lt__`"
   ]
  },
  {
   "cell_type": "code",
   "execution_count": 21,
   "metadata": {},
   "outputs": [
    {
     "name": "stdout",
     "output_type": "stream",
     "text": [
      "Codigo 17 Saldo 500\n",
      "Codigo 133 Saldo 510\n",
      "Codigo 3 Saldo 1000\n"
     ]
    }
   ],
   "source": [
    "for conta in sorted(contas):\n",
    "    print(conta)"
   ]
  },
  {
   "cell_type": "markdown",
   "metadata": {},
   "source": [
    "### Operator\n",
    "- attrgetter: retorn um objeto que poder ser chamado, que busca o attr de seu opedador\n",
    "- se tenho um atributo que disponibiliza o meu critério de comparação, você pode usar o attrgetter"
   ]
  },
  {
   "cell_type": "code",
   "execution_count": 18,
   "metadata": {},
   "outputs": [
    {
     "name": "stdout",
     "output_type": "stream",
     "text": [
      "Codigo 17 Saldo 500\n",
      "Codigo 133 Saldo 510\n",
      "Codigo 3 Saldo 1000\n"
     ]
    }
   ],
   "source": [
    "from operator import attrgetter\n",
    "\n",
    "for conta in sorted(contas, key=attrgetter(\"_saldo\")):\n",
    "    print(conta)"
   ]
  }
 ],
 "metadata": {
  "kernelspec": {
   "display_name": "Python 3",
   "language": "python",
   "name": "python3"
  },
  "language_info": {
   "codemirror_mode": {
    "name": "ipython",
    "version": 3
   },
   "file_extension": ".py",
   "mimetype": "text/x-python",
   "name": "python",
   "nbconvert_exporter": "python",
   "pygments_lexer": "ipython3",
   "version": "3.10.11"
  },
  "orig_nbformat": 4
 },
 "nbformat": 4,
 "nbformat_minor": 2
}
